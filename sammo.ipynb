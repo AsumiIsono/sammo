{
 "cells": [
  {
   "cell_type": "code",
   "execution_count": 1,
   "metadata": {},
   "outputs": [
    {
     "name": "stdout",
     "output_type": "stream",
     "text": [
      "c:\\Users\\pochi\\python\\sammo\n"
     ]
    }
   ],
   "source": [
    "import pathlib\n",
    "print(pathlib.Path().cwd())"
   ]
  },
  {
   "cell_type": "code",
   "execution_count": 5,
   "metadata": {},
   "outputs": [],
   "source": [
    "# %load -r :27 _init.py\n",
    "import pathlib\n",
    "import sammo\n",
    "from sammo.runners import OpenAIChat\n",
    "from sammo.base import Template, EvaluationScore\n",
    "from sammo.components import Output, GenerateText, ForEach, Union\n",
    "from sammo.extractors import ExtractRegex\n",
    "from sammo.data import DataTable\n",
    "import json\n",
    "import requests\n",
    "import os\n",
    "\n",
    "API_CONFIG_FILE = pathlib.Path().cwd() /\"personal.openai\"\n",
    "API_CONFIG = \"\"\n",
    "if API_CONFIG_FILE.exists():\n",
    "    API_CONFIG = API_CONFIG_FILE\n",
    "if not API_CONFIG:\n",
    "    raise ValueError('Please set API_CONFIG to {\"api_key\": \"YOUR_KEY\"}')\n",
    "\n",
    "_ = sammo.setup_logger(\"WARNING\")  # we're only interested in warnings for now\n",
    "\n",
    "runner = OpenAIChat(\n",
    "    model_id=\"gpt-3.5-turbo-16k\",\n",
    "    api_config=API_CONFIG,\n",
    "    cache=os.getenv(\"CACHE_FILE\", \"cache.tsv\"),\n",
    "    timeout=30,\n",
    ")"
   ]
  },
  {
   "cell_type": "code",
   "execution_count": 8,
   "metadata": {},
   "outputs": [
    {
     "data": {
      "text/plain": [
       "+---------+------------+\n",
       "| input   | output     |\n",
       "+=========+============+\n",
       "| None    | 何ですか？ |\n",
       "+---------+------------+\n",
       "Constants: None"
      ]
     },
     "execution_count": 8,
     "metadata": {},
     "output_type": "execute_result"
    }
   ],
   "source": [
    "Output(GenerateText(\"私の好きな食べ物は\")).run(runner)"
   ]
  },
  {
   "cell_type": "code",
   "execution_count": 9,
   "metadata": {},
   "outputs": [
    {
     "name": "stdout",
     "output_type": "stream",
     "text": [
      "minibatches[###################################################################################]5/5[00:05<00:00, 0.95it/s]\n",
      "+-------------+------------------------------------------------------------------------------------------------------+\n",
      "| input       | output                                                                                               |\n",
      "+=============+======================================================================================================+\n",
      "| Switzerland | # Switzerland The top reason to visit Switzerland is to experience its breathtaking landscapes, from |\n",
      "|             | majestic mountains to pristine lakes.  ## When to Visit The best time to visit Switzerland is during |\n",
      "|             | the summer season (June to August) when the weather is pleasant and outdoor activities are abun...   |\n",
      "+-------------+------------------------------------------------------------------------------------------------------+\n",
      "| Morocco     | # Morocco The top reason to visit Morocco is to immerse yourself in its rich and diverse culture,    |\n",
      "|             | blending Arab, Berber, and European influences.  ## When to Visit The best time to visit Morocco is  |\n",
      "|             | during spring (March to May) when the weather is pleasant and the landscapes are lush.               |\n",
      "+-------------+------------------------------------------------------------------------------------------------------+\n",
      "| Tanzania    | # Tanzania The top reason to visit Tanzania is to witness the breathtaking beauty of the Serengeti   |\n",
      "|             | National Park and experience the awe-inspiring Great Migration.  ## When to Visit The best time to   |\n",
      "|             | visit Tanzania is during the dry season, from June to October, when wildlife viewing is at its peak. |\n",
      "+-------------+------------------------------------------------------------------------------------------------------+\n",
      "| Indonesia   | # Indonesia The top reason to visit Indonesia is its breathtaking natural beauty, from stunning      |\n",
      "|             | beaches and lush rainforests to active volcanoes and diverse wildlife.  ## When to Visit The best    |\n",
      "|             | time to visit Indonesia is during the dry season, which is from May to September.                    |\n",
      "+-------------+------------------------------------------------------------------------------------------------------+\n",
      "| Peru        | # Peru The top reason to visit Peru is to experience the awe-inspiring ancient ruins of Machu        |\n",
      "|             | Picchu.  ## When to Visit The best time to visit Peru is during the dry season, which is from May to |\n",
      "|             | September.                                                                                           |\n",
      "+-------------+------------------------------------------------------------------------------------------------------+\n",
      "Constants: None\n"
     ]
    }
   ],
   "source": [
    "COUNTRIES = [\"Switzerland\", \"Morocco\", \"Tanzania\", \"Indonesia\", \"Peru\"]\n",
    "\n",
    "reason_to_visit = GenerateText(\n",
    "    Template(\"What is the top reason to visit {{input}} in one sentence?\")\n",
    ")\n",
    "when_to_visit = GenerateText(\n",
    "    Template(\n",
    "        \"Which season is the best time to visit {{input}}? Answer in one sentence.\"\n",
    "    )\n",
    ")\n",
    "country_pages = Template(\n",
    "    \"# {{input}}\\n{{reason}}\\n\\n## When to Visit\\n{{when}}\",\n",
    "    reason=reason_to_visit,\n",
    "    when=when_to_visit,\n",
    ")\n",
    "\n",
    "results = Output(country_pages).run(runner, COUNTRIES)\n",
    "print(results.to_string(max_col_width=100, max_cell_length=300))"
   ]
  },
  {
   "cell_type": "code",
   "execution_count": null,
   "metadata": {},
   "outputs": [],
   "source": []
  }
 ],
 "metadata": {
  "kernelspec": {
   "display_name": "sammo311",
   "language": "python",
   "name": "python3"
  },
  "language_info": {
   "codemirror_mode": {
    "name": "ipython",
    "version": 3
   },
   "file_extension": ".py",
   "mimetype": "text/x-python",
   "name": "python",
   "nbconvert_exporter": "python",
   "pygments_lexer": "ipython3",
   "version": "3.11.9"
  }
 },
 "nbformat": 4,
 "nbformat_minor": 2
}
